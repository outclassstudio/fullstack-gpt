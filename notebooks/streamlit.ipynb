{
 "cells": [
  {
   "cell_type": "markdown",
   "metadata": {},
   "source": [
    "## Steeamlit\n",
    "\n",
    "### data flow\n",
    "\n",
    "- 파일 안에서 데이터가 하나만 변경되어도 전체 페이지가 refresh됨\n",
    "- 실제로 페이지가 새로고침 되는 것이 아니라, 파일 전체가 처음부터 다시 실행됨\n",
    "- cache 기능이 있어서 일부는 다시 로드되지 않음\n"
   ]
  }
 ],
 "metadata": {
  "language_info": {
   "name": "python"
  }
 },
 "nbformat": 4,
 "nbformat_minor": 2
}
