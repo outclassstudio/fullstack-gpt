{
 "cells": [
  {
   "cell_type": "markdown",
   "metadata": {},
   "source": [
    "## Steeamlit\n",
    "\n",
    "### data flow\n",
    "\n",
    "- 파일 안에서 데이터가 하나만 변경되어도 전체 페이지가 refresh됨\n",
    "- 실제로 페이지가 새로고침 되는 것이 아니라, 파일 전체가 처음부터 다시 실행됨\n",
    "- cache 기능이 있어서 일부는 다시 로드되지 않음\n"
   ]
  },
  {
   "cell_type": "code",
   "execution_count": null,
   "metadata": {},
   "outputs": [],
   "source": [
    "import streamlit as st\n",
    "import time\n",
    "\n",
    "st.set_page_config(page_title=\"DocumentGPT\", page_icon=\"📔\")\n",
    "st.title(\"DocumentGPT\")\n",
    "\n",
    "if \"messages\" not in st.session_state:\n",
    "    st.session_state[\"messages\"] = []\n",
    "\n",
    "\n",
    "def send_message(message, role, save=True):\n",
    "    with st.chat_message(role):\n",
    "        st.write(message)\n",
    "    if save:\n",
    "        st.session_state[\"messages\"].append({\"message\": message, \"role\": role})\n",
    "\n",
    "\n",
    "for msg in st.session_state[\"messages\"]:\n",
    "    send_message(msg[\"message\"], msg[\"role\"], save=False)\n",
    "\n",
    "\n",
    "message = st.chat_input(\"AI에게 질문을 남겨보아요\")\n",
    "\n",
    "if message:\n",
    "    send_message(message, \"human\")\n",
    "    time.sleep(2)\n",
    "    send_message(f\"You said: {message}\", \"ai\")"
   ]
  }
 ],
 "metadata": {
  "kernelspec": {
   "display_name": "env",
   "language": "python",
   "name": "python3"
  },
  "language_info": {
   "name": "python",
   "version": "3.10.4"
  }
 },
 "nbformat": 4,
 "nbformat_minor": 2
}
