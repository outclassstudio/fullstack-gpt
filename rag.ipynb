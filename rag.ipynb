{
 "cells": [
  {
   "cell_type": "markdown",
   "metadata": {},
   "source": [
    "### File Loader\n",
    "\n",
    "- text loader\n",
    "- pdf loader\n",
    "- unstructured loader 등 다양함\n",
    "  -> unstructured loader의 경우 확장자에 상관없이 사용 가능\n",
    "  - https://stackoverflow.com/questions/38916452/nltk-download-ssl-certificate-verify-failed\n"
   ]
  },
  {
   "cell_type": "markdown",
   "metadata": {},
   "source": [
    "### Text splitters\n",
    "\n",
    "- loader로 불러온 텍스트를 분할하기 위해 사용\n",
    "- 필요한 부분만을 잘라내서 탐색하므로 더 효율적임\n"
   ]
  },
  {
   "cell_type": "code",
   "execution_count": null,
   "metadata": {},
   "outputs": [],
   "source": [
    "from langchain.document_loaders import UnstructuredFileLoader\n",
    "from langchain.chat_models import ChatOpenAI\n",
    "from langchain.text_splitter import RecursiveCharacterTextSplitter, CharacterTextSplitter\n",
    "\n",
    "chat = ChatOpenAI(temperature=0.1)\n",
    "\n",
    "#? chunk_size : 문서를 분할할 사이즈 설정\n",
    "#? chun_overlap : 불완전한 문장으로 분할되는 것을 보완하기 위해 문단의 뒷부분을 가져와서 다음 섹션에 붙임\n",
    "# splitter = RecursiveCharacterTextSplitter(\n",
    "#   chunk_size=200,\n",
    "#   chunk_overlap=50\n",
    "# )\n",
    "splitter = CharacterTextSplitter.from_tiktoken_encoder(\n",
    "  separator=\"\\n\",\n",
    "  chunk_size=600,\n",
    "  chunk_overlap=100,\n",
    "  # length_function=len\n",
    ")\n",
    "\n",
    "loader = UnstructuredFileLoader(\"./files/test.pdf\")\n",
    "docs = loader.load_and_split(text_splitter=splitter)\n"
   ]
  },
  {
   "cell_type": "markdown",
   "metadata": {},
   "source": [
    "### Embedder\n",
    "\n",
    "- 자료를 자료가 가진 속성에 따라 벡터로 표현\n"
   ]
  },
  {
   "cell_type": "code",
   "execution_count": null,
   "metadata": {},
   "outputs": [],
   "source": [
    "from langchain.embeddings import OpenAIEmbeddings\n",
    "\n",
    "embedder = OpenAIEmbeddings()\n",
    "embedder.embed_query(\"Hi\")"
   ]
  },
  {
   "cell_type": "code",
   "execution_count": null,
   "metadata": {},
   "outputs": [],
   "source": [
    "from langchain.embeddings import OpenAIEmbeddings\n",
    "\n",
    "embedder = OpenAIEmbeddings()\n",
    "vector = embedder.embed_documents([\n",
    "  \"Hi\",\n",
    "  \"How\",\n",
    "  \"are\",\n",
    "  \"you\",\n",
    "  \"You can embedd quiet long sentences\"\n",
    "])\n",
    "\n",
    "for i in vector:\n",
    "  print(len(i))\n"
   ]
  },
  {
   "cell_type": "markdown",
   "metadata": {},
   "source": [
    "### Vector Store\n",
    "\n",
    "- Embed한 자료를 저장\n",
    "- CacheBackedEmbeddings를 통해 caching 가능\n"
   ]
  },
  {
   "cell_type": "code",
   "execution_count": null,
   "metadata": {},
   "outputs": [],
   "source": [
    "from langchain.document_loaders import UnstructuredFileLoader\n",
    "from langchain.chat_models import ChatOpenAI\n",
    "from langchain.text_splitter import CharacterTextSplitter\n",
    "from langchain.embeddings import OpenAIEmbeddings, CacheBackedEmbeddings\n",
    "from langchain.vectorstores import Chroma\n",
    "from langchain.storage import LocalFileStore\n",
    "\n",
    "chat = ChatOpenAI(temperature=0.1)\n",
    "\n",
    "cache_dir = LocalFileStore(\"./.cache/\")\n",
    "\n",
    "splitter = CharacterTextSplitter.from_tiktoken_encoder(\n",
    "  separator=\"\\n\",\n",
    "  chunk_size=600,\n",
    "  chunk_overlap=100,\n",
    "  # length_function=len\n",
    ")\n",
    "\n",
    "loader = UnstructuredFileLoader(\"./files/1984.txt\")\n",
    "docs = loader.load_and_split(text_splitter=splitter)\n",
    "\n",
    "embeddings = OpenAIEmbeddings()\n",
    "cached_embeddings = CacheBackedEmbeddings.from_bytes_store(\n",
    "  embeddings, cache_dir\n",
    ")\n",
    "#? cache되지 않은 요청은 embeddings를 사용\n",
    "#? cache된 요청은 cache에서 불러옴\n",
    "vectorstore = Chroma.from_documents(docs, cached_embeddings)\n",
    "results = vectorstore.similarity_search(\"Where does winston live?\")\n",
    "print(results)\n"
   ]
  }
 ],
 "metadata": {
  "kernelspec": {
   "display_name": "env",
   "language": "python",
   "name": "python3"
  },
  "language_info": {
   "codemirror_mode": {
    "name": "ipython",
    "version": 3
   },
   "file_extension": ".py",
   "mimetype": "text/x-python",
   "name": "python",
   "nbconvert_exporter": "python",
   "pygments_lexer": "ipython3",
   "version": "3.10.4"
  }
 },
 "nbformat": 4,
 "nbformat_minor": 2
}
